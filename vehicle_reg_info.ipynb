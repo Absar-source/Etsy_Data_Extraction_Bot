{
 "cells": [
  {
   "cell_type": "code",
   "execution_count": 7,
   "metadata": {},
   "outputs": [],
   "source": [
    "import time\n",
    "import requests\n",
    "from selenium import webdriver\n",
    "from selenium.webdriver.common.by import By\n",
    "from selenium.webdriver.common.keys import Keys\n",
    "\n",
    "# 2Captcha API Key\n",
    "API_KEY = \"48458d297de753aa014492988c0d4acc\"\n",
    "\n",
    "# Website URL\n",
    "url = 'https://excise.gos.pk/vehicle/vehicle_search' # Replace with the target URL\n",
    "site_key = \"6LeAAg4UAAAAACaH6ib9TkLUHyXma2UUR5u5BVVX\"  # Replace with the site's reCAPTCHA key (from page source)\n",
    "# website_url = \n",
    "# sitekey=\"6LeAAg4UAAAAACaH6ib9TkLUHyXma2UUR5u5BVVX\"\n",
    "# captcha_response = captcha_solver(website_url, sitekey)\n",
    "# key  = \"48458d297de753aa014492988c0d4acc\"\n",
    "# Function to solve reCAPTCHA\n",
    "def solve_recaptcha(api_key, site_key, url):\n",
    "    # Step 1: Submit a reCAPTCHA solving request to 2Captcha\n",
    "    captcha_url = \"http://2captcha.com/in.php\"\n",
    "    payload = {\n",
    "        'key': api_key,\n",
    "        'method': 'userrecaptcha',\n",
    "        'googlekey': site_key,\n",
    "        'pageurl': url,\n",
    "        'json': 1\n",
    "    }\n",
    "    response = requests.post(captcha_url, data=payload)\n",
    "    request_result = response.json()\n",
    "\n",
    "    if request_result[\"status\"] != 1:\n",
    "        raise Exception(f\"Failed to submit CAPTCHA: {request_result['request']}\")\n",
    "\n",
    "    captcha_id = request_result[\"request\"]\n",
    "\n",
    "    # Step 2: Poll for CAPTCHA solution\n",
    "    result_url = f\"http://2captcha.com/res.php?key={api_key}&action=get&id={captcha_id}&json=1\"\n",
    "    for _ in range(30):  # Check every 5 seconds for up to 2 minutes\n",
    "        result = requests.get(result_url).json()\n",
    "        if result[\"status\"] == 1:\n",
    "            return result[\"request\"]  # Return the CAPTCHA solution\n",
    "        time.sleep(5)\n",
    "\n",
    "    raise Exception(\"CAPTCHA solution timed out.\")\n",
    "\n",
    "# Use Selenium to interact with the webpage\n",
    "def main():\n",
    "    # Step 1: Open the website\n",
    "    driver = webdriver.Chrome()  # Make sure chromedriver is in PATH\n",
    "    driver.get(url)\n",
    "\n",
    "    # Step 2: Solve the reCAPTCHA\n",
    "    print(\"Solving CAPTCHA...\")\n",
    "    captcha_solution = solve_recaptcha(API_KEY, site_key, url)\n",
    "    print(\"CAPTCHA Solved!\")\n",
    "\n",
    "    \n",
    "    input_key = driver.find_element(By.ID, 'reg_no')\n",
    "    input_key.send_keys(\"BWH135\")\n",
    "    \n",
    "    # Step 3: Insert the CAPTCHA token\n",
    "    driver.execute_script(f'document.getElementById(\"g-recaptcha-response\").innerHTML=\"{captcha_solution}\";')\n",
    "\n",
    "    # Step 4: Submit the form (adjust the selector to match the site's form button)\n",
    "    driver.find_element(By.ID, \"search_veh\").click()\n",
    "    print(\"Form Submitted!\")\n",
    "\n",
    "    time.sleep(10)  # Wait to observe the result\n",
    "    response  = driver.find_element(By.ID,\"veh_res\")\n",
    "    time.sleep(2)\n",
    "    print(response.text)\n",
    "    replay =  response.text\n",
    "    time.sleep(3)\n",
    "    # Step 5: Close the browser\n",
    "    driver.quit()\n",
    "    return  replay\n",
    "\n",
    "# if __name__ == \"_main_\":\n"
   ]
  },
  {
   "cell_type": "code",
   "execution_count": 8,
   "metadata": {},
   "outputs": [
    {
     "name": "stdout",
     "output_type": "stream",
     "text": [
      "Solving CAPTCHA...\n",
      "CAPTCHA Solved!\n",
      "Form Submitted!\n",
      "Online Vehicle Verification List\n",
      "Registration No. Make Engine No. Action\n",
      "BWH-135 HONDA CITY 2022 L12B51009916 View Details\n"
     ]
    }
   ],
   "source": [
    "res =  main()\n",
    "if resp == 'Record Not found':\n",
    "    reg_num , model , engin = reg_number ,None  , None\n",
    "else:\n",
    "    splited_val = resp.split(\"\\n\")[2].split(\" \")[:-2]\n",
    "    reg_num , model, engin =splited_val[0], \" \".join(splited_val[1:-1]) , splited_val[-1]  "
   ]
  }
 ],
 "metadata": {
  "kernelspec": {
   "display_name": "Python 3",
   "language": "python",
   "name": "python3"
  },
  "language_info": {
   "codemirror_mode": {
    "name": "ipython",
    "version": 3
   },
   "file_extension": ".py",
   "mimetype": "text/x-python",
   "name": "python",
   "nbconvert_exporter": "python",
   "pygments_lexer": "ipython3",
   "version": "3.10.4"
  }
 },
 "nbformat": 4,
 "nbformat_minor": 2
}
